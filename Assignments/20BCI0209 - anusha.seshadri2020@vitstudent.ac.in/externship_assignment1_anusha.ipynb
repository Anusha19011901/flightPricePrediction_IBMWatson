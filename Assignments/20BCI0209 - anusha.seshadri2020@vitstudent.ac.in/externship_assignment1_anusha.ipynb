{
 "cells": [
  {
   "cell_type": "code",
   "execution_count": 1,
   "id": "736cd6e9",
   "metadata": {},
   "outputs": [],
   "source": [
    "#Anusha Seshadri - 20BCI0209\n",
    "#anusha.seshadri2020@vitstudent.ac.in\n",
    "#VIT Vellore"
   ]
  },
  {
   "cell_type": "code",
   "execution_count": 1,
   "id": "751d056a",
   "metadata": {},
   "outputs": [
    {
     "name": "stdout",
     "output_type": "stream",
     "text": [
      "name :  anusha  age :  22\n"
     ]
    }
   ],
   "source": [
    "#Assign your Name to variable name and Age to variable age. Make a Python program that prints your name and age.\n",
    "\n",
    "name='anusha'\n",
    "age='22'\n",
    "print(\"name : \",name, \" age : \",age)"
   ]
  },
  {
   "cell_type": "code",
   "execution_count": 2,
   "id": "41d9aad9",
   "metadata": {},
   "outputs": [
    {
     "name": "stdout",
     "output_type": "stream",
     "text": [
      "['Data', 'science', 'is', 'used', 'to', 'extract', 'meaningful', 'insights.']\n"
     ]
    }
   ],
   "source": [
    "#X=\"Datascience is used to extract meaningful insights.\" Split the string\n",
    "\n",
    "X = \"Data science is used to extract meaningful insights.\"\n",
    "words = X.split()\n",
    "print(words)"
   ]
  },
  {
   "cell_type": "code",
   "execution_count": 3,
   "id": "a01fdbde",
   "metadata": {},
   "outputs": [
    {
     "name": "stdout",
     "output_type": "stream",
     "text": [
      "12\n"
     ]
    }
   ],
   "source": [
    "#Make a function that gives multiplication of two numbers\n",
    "\n",
    "def mul(a,b):\n",
    "    return a*b\n",
    "\n",
    "print(mul(3,4))"
   ]
  },
  {
   "cell_type": "code",
   "execution_count": 4,
   "id": "63de4b96",
   "metadata": {},
   "outputs": [
    {
     "name": "stdout",
     "output_type": "stream",
     "text": [
      "States:\n",
      "Kerala\n",
      "Maharashtra\n",
      "Karnataka\n",
      "Tamil Nadu\n",
      "Rajasthan\n",
      "\n",
      "Capitals:\n",
      "Trivandrum\n",
      "Mumbai\n",
      "Bangalore\n",
      "Chennai\n",
      "Jaipur\n"
     ]
    }
   ],
   "source": [
    "#Create a Dictionary of 5 States with their capitals. also print the keys and values.\n",
    "\n",
    "states = {\n",
    "    \"Kerala\": \"Trivandrum\",\n",
    "    \"Maharashtra\": \"Mumbai\",\n",
    "    \"Karnataka\": \"Bangalore\",\n",
    "    \"Tamil Nadu\": \"Chennai\",\n",
    "    \"Rajasthan\": \"Jaipur\"\n",
    "}\n",
    "\n",
    "# Printing keys\n",
    "print(\"States:\")\n",
    "for state in states.keys():\n",
    "    print(state)\n",
    "\n",
    "# Printing values\n",
    "print(\"\\nCapitals:\")\n",
    "for capital in states.values():\n",
    "    print(capital)"
   ]
  },
  {
   "cell_type": "code",
   "execution_count": 5,
   "id": "0ebab2b2",
   "metadata": {},
   "outputs": [
    {
     "name": "stdout",
     "output_type": "stream",
     "text": [
      "[0, 1, 2, 3, 4]\n"
     ]
    }
   ],
   "source": [
    "#Create a list of 1000 numbers using range function.\n",
    "\n",
    "numbers = list(range(1000))\n",
    "print(numbers[:5])"
   ]
  },
  {
   "cell_type": "code",
   "execution_count": 6,
   "id": "e0636dde",
   "metadata": {},
   "outputs": [
    {
     "name": "stdout",
     "output_type": "stream",
     "text": [
      "[1, 0, 0, 0]\n",
      "[0, 1, 0, 0]\n",
      "[0, 0, 1, 0]\n",
      "[0, 0, 0, 1]\n"
     ]
    }
   ],
   "source": [
    "#Create an identity matrix of dimension 4 by 4\n",
    "\n",
    "# Create a 4x4 identity matrix\n",
    "identity_matrix = [[1 if i == j else 0 for j in range(4)] for i in range(4)]\n",
    "\n",
    "# Print the identity matrix\n",
    "for row in identity_matrix:\n",
    "    print(row)"
   ]
  },
  {
   "cell_type": "code",
   "execution_count": 7,
   "id": "6b2f6ec3",
   "metadata": {},
   "outputs": [
    {
     "name": "stdout",
     "output_type": "stream",
     "text": [
      "[1, 2, 3]\n",
      "[4, 5, 6]\n",
      "[7, 8, 9]\n"
     ]
    }
   ],
   "source": [
    "#Create a 3x3 matrix with values ranging from 1 to 9\n",
    "\n",
    "# Create a 3x3 matrix using range\n",
    "matrix = [[j + 1 + (i * 3) for j in range(3)] for i in range(3)]\n",
    "\n",
    "# Print the matrix\n",
    "for row in matrix:\n",
    "    print(row)"
   ]
  },
  {
   "cell_type": "code",
   "execution_count": 8,
   "id": "6bd2f7e3",
   "metadata": {},
   "outputs": [
    {
     "name": "stdout",
     "output_type": "stream",
     "text": [
      "Enter the number of rows for the arrays: 2\n",
      "Enter the number of columns for the arrays: 2\n",
      "Enter elements for the first array:\n",
      "Enter element for position (0, 0): 1\n",
      "Enter element for position (0, 1): 1\n",
      "Enter element for position (1, 0): 2\n",
      "Enter element for position (1, 1): 2\n",
      "Enter elements for the second array:\n",
      "Enter element for position (0, 0): 5\n",
      "Enter element for position (0, 1): 3\n",
      "Enter element for position (1, 0): 6\n",
      "Enter element for position (1, 1): 7\n",
      "Sum of the arrays:\n",
      "[[6 4]\n",
      " [8 9]]\n"
     ]
    }
   ],
   "source": [
    "#Create 2 similar dimensional array and perform sum on them.\n",
    "\n",
    "import numpy as np\n",
    "\n",
    "# Get user input for the first array\n",
    "rows = int(input(\"Enter the number of rows for the arrays: \"))\n",
    "cols = int(input(\"Enter the number of columns for the arrays: \"))\n",
    "\n",
    "print(\"Enter elements for the first array:\")\n",
    "array1 = np.array([[int(input(f\"Enter element for position ({i}, {j}): \")) for j in range(cols)] for i in range(rows)])\n",
    "\n",
    "print(\"Enter elements for the second array:\")\n",
    "array2 = np.array([[int(input(f\"Enter element for position ({i}, {j}): \")) for j in range(cols)] for i in range(rows)])\n",
    "\n",
    "# Calculate the sum of the arrays\n",
    "array_sum = array1 + array2\n",
    "\n",
    "# Print the sum of the arrays\n",
    "print(\"Sum of the arrays:\")\n",
    "print(array_sum)"
   ]
  },
  {
   "cell_type": "code",
   "execution_count": 9,
   "id": "31ff8d56",
   "metadata": {},
   "outputs": [
    {
     "name": "stdout",
     "output_type": "stream",
     "text": [
      "2023-02-01\n",
      "2023-02-02\n",
      "2023-02-03\n",
      "2023-02-04\n",
      "2023-02-05\n",
      "2023-02-06\n",
      "2023-02-07\n",
      "2023-02-08\n",
      "2023-02-09\n",
      "2023-02-10\n",
      "2023-02-11\n",
      "2023-02-12\n",
      "2023-02-13\n",
      "2023-02-14\n",
      "2023-02-15\n",
      "2023-02-16\n",
      "2023-02-17\n",
      "2023-02-18\n",
      "2023-02-19\n",
      "2023-02-20\n",
      "2023-02-21\n",
      "2023-02-22\n",
      "2023-02-23\n",
      "2023-02-24\n",
      "2023-02-25\n",
      "2023-02-26\n",
      "2023-02-27\n",
      "2023-02-28\n",
      "2023-03-01\n"
     ]
    }
   ],
   "source": [
    "#Generate the series of dates from 1st Feb, 2023 to 1st March, 2023 (both inclusive)\n",
    "\n",
    "import datetime\n",
    "\n",
    "start_date = datetime.date(2023, 2, 1)\n",
    "end_date = datetime.date(2023, 3, 1)\n",
    "delta = datetime.timedelta(days=1)\n",
    "\n",
    "current_date = start_date\n",
    "while current_date <= end_date:\n",
    "    print(current_date)\n",
    "    current_date += delta"
   ]
  },
  {
   "cell_type": "code",
   "execution_count": 10,
   "id": "4909e10b",
   "metadata": {},
   "outputs": [
    {
     "name": "stdout",
     "output_type": "stream",
     "text": [
      "     Brand  Sales\n",
      "0   Maruti    250\n",
      "1  Renault    200\n",
      "2  Hyundai    240\n"
     ]
    }
   ],
   "source": [
    "#Given a dictionary, convert it into corresponding dataframe and display it dictionary = {'Brand': ['Maruti', 'Renault', 'Hyndai'], 'Sales' : [250, 200, 240]}\n",
    "\n",
    "import pandas as pd\n",
    "\n",
    "dictionary = {'Brand': ['Maruti', 'Renault', 'Hyundai'], 'Sales': [250, 200, 240]}\n",
    "\n",
    "# Convert dictionary to dataframe\n",
    "df = pd.DataFrame(dictionary)\n",
    "\n",
    "# Display the dataframe\n",
    "print(df)"
   ]
  },
  {
   "cell_type": "code",
   "execution_count": null,
   "id": "b48a12cf",
   "metadata": {},
   "outputs": [],
   "source": []
  }
 ],
 "metadata": {
  "kernelspec": {
   "display_name": "Python 3 (ipykernel)",
   "language": "python",
   "name": "python3"
  },
  "language_info": {
   "codemirror_mode": {
    "name": "ipython",
    "version": 3
   },
   "file_extension": ".py",
   "mimetype": "text/x-python",
   "name": "python",
   "nbconvert_exporter": "python",
   "pygments_lexer": "ipython3",
   "version": "3.9.7"
  }
 },
 "nbformat": 4,
 "nbformat_minor": 5
}
